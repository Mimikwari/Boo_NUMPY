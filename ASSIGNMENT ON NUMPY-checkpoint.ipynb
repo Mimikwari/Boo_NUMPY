{
 "cells": [
  {
   "cell_type": "markdown",
   "id": "0b48c0ed",
   "metadata": {},
   "source": [
    "# HOW TO RESHAPE AN ARRAY"
   ]
  },
  {
   "cell_type": "code",
   "execution_count": 2,
   "id": "533643ab",
   "metadata": {},
   "outputs": [],
   "source": [
    "import numpy as np"
   ]
  },
  {
   "cell_type": "code",
   "execution_count": 3,
   "id": "e8ff92d5",
   "metadata": {},
   "outputs": [
    {
     "name": "stdout",
     "output_type": "stream",
     "text": [
      "[[1 2 3]\n",
      " [7 8 9]]\n"
     ]
    }
   ],
   "source": [
    "#shape of an array\n",
    "array = np.array([[1,2,3] , [7,8,9]])\n",
    "print(array)"
   ]
  },
  {
   "cell_type": "code",
   "execution_count": 4,
   "id": "2749ad3b",
   "metadata": {},
   "outputs": [
    {
     "name": "stdout",
     "output_type": "stream",
     "text": [
      "[[54 78 90]\n",
      " [43 27 59]\n",
      " [85 32 91]]\n"
     ]
    }
   ],
   "source": [
    "  #let suppose we have an array of student's ages and we have\n",
    "  # 3 students of each age\n",
    "student = np.array([19, 19, 19, 18, 18, 18, 15, 15, 15])\n",
    " # we also have have their exam score\n",
    "exam_score = np.array([54, 78, 90, 43, 27, 59, 85, 32, 91])\n",
    " # splitting the exam score\n",
    "exam_split = exam_score.reshape(3, 3)\n",
    "print(exam_split)"
   ]
  },
  {
   "cell_type": "markdown",
   "id": "809fbef6",
   "metadata": {},
   "source": [
    " ## HOW TO GENERATE RANDINT TO GENERATE TWO VALUES"
   ]
  },
  {
   "cell_type": "code",
   "execution_count": 5,
   "id": "4baff6e5",
   "metadata": {},
   "outputs": [
    {
     "name": "stdout",
     "output_type": "stream",
     "text": [
      "[0.25995748 0.59099341 0.03576328 0.20405862 0.34046834]\n"
     ]
    }
   ],
   "source": [
    "v=np.random.rand(5)\n",
    "print(v)\n",
    "#it just created 5 numbers between 0 and 1"
   ]
  },
  {
   "cell_type": "code",
   "execution_count": 6,
   "id": "adf159f9",
   "metadata": {},
   "outputs": [
    {
     "name": "stdout",
     "output_type": "stream",
     "text": [
      "[92 72 85 59 84]\n"
     ]
    }
   ],
   "source": [
    "#so to get an integer\n",
    "v=np.random.randint(50,100,5)\n",
    "print(v)"
   ]
  },
  {
   "cell_type": "code",
   "execution_count": 9,
   "id": "01f5ead2",
   "metadata": {},
   "outputs": [
    {
     "name": "stdout",
     "output_type": "stream",
     "text": [
      "18\n"
     ]
    }
   ],
   "source": [
    "c=np.random.randint(5,100)\n",
    "print(c)"
   ]
  },
  {
   "cell_type": "code",
   "execution_count": null,
   "id": "bf419dd5",
   "metadata": {},
   "outputs": [],
   "source": []
  }
 ],
 "metadata": {
  "kernelspec": {
   "display_name": "Python 3 (ipykernel)",
   "language": "python",
   "name": "python3"
  },
  "language_info": {
   "codemirror_mode": {
    "name": "ipython",
    "version": 3
   },
   "file_extension": ".py",
   "mimetype": "text/x-python",
   "name": "python",
   "nbconvert_exporter": "python",
   "pygments_lexer": "ipython3",
   "version": "3.10.9"
  }
 },
 "nbformat": 4,
 "nbformat_minor": 5
}
